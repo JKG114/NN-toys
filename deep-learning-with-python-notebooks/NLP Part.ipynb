{
 "cells": [
  {
   "cell_type": "code",
   "execution_count": 98,
   "metadata": {},
   "outputs": [],
   "source": [
    "import keras \n",
    "import numpy as np\n",
    "from keras.layers.core import Dense, Dropout, Flatten\n",
    "from keras.datasets import cifar10\n",
    "from keras.utils import to_categorical\n",
    "from keras import layers\n",
    "from keras.layers import Embedding\n",
    "from keras.utils import np_utils\n",
    "from keras.layers.convolutional import Convolution1D, MaxPooling1D, ZeroPadding1D, AveragePooling1D\n",
    "from keras import models\n",
    "from keras.callbacks import EarlyStopping\n",
    "from keras.optimizers import Adam"
   ]
  },
  {
   "cell_type": "code",
   "execution_count": 187,
   "metadata": {},
   "outputs": [],
   "source": [
    "#Dataset of 11,228 newswires from Reuters, labeled over 46 topics. \n",
    "#As with the IMDB dataset, each wire is encoded as a sequence of word indexes (same conventions).\n",
    "\n",
    "from keras import preprocessing\n",
    "from keras.datasets import reuters\n",
    "#training set has 4777 samples, test set has 1195\n",
    "\n",
    "# Number of words to consider as features\n",
    "max_features = 500\n",
    "# Cut texts after this number of words \n",
    "# (among top max_features most common words)\n",
    "maxlen = 100\n",
    "\n",
    "\n",
    "#We'll start by considering only \n",
    "(x_train, y_train), (x_test, y_test) = reuters.load_data(num_words=max_features,\n",
    "                                                         test_split=0.2)\n",
    "\n",
    "x_train = preprocessing.sequence.pad_sequences(x_train, maxlen=maxlen)\n",
    "x_test = preprocessing.sequence.pad_sequences(x_test, maxlen=maxlen)\n",
    "y_train = np_utils.to_categorical(y_train, 46)\n",
    "y_test = np_utils.to_categorical(y_test, 46)\n",
    "#This dataset also makes available the word index used for encoding the sequences:\n",
    "#Note there are 30979 words (we'll use this for our embedding)\n",
    "word_index = reuters.get_word_index(path=\"reuters_word_index.json\")\n",
    "\n",
    "\n"
   ]
  },
  {
   "cell_type": "code",
   "execution_count": 188,
   "metadata": {},
   "outputs": [
    {
     "data": {
      "text/plain": [
       "11228"
      ]
     },
     "execution_count": 188,
     "metadata": {},
     "output_type": "execute_result"
    }
   ],
   "source": [
    " len(x_train) + len(x_test)\n"
   ]
  },
  {
   "cell_type": "code",
   "execution_count": 189,
   "metadata": {},
   "outputs": [
    {
     "name": "stdout",
     "output_type": "stream",
     "text": [
      "_________________________________________________________________\n",
      "Layer (type)                 Output Shape              Param #   \n",
      "=================================================================\n",
      "embedding_63 (Embedding)     (None, 100, 8)            80000     \n",
      "_________________________________________________________________\n",
      "flatten_60 (Flatten)         (None, 800)               0         \n",
      "_________________________________________________________________\n",
      "dense_95 (Dense)             (None, 46)                36846     \n",
      "=================================================================\n",
      "Total params: 116,846\n",
      "Trainable params: 116,846\n",
      "Non-trainable params: 0\n",
      "_________________________________________________________________\n",
      "Train on 8982 samples, validate on 2246 samples\n",
      "Epoch 1/10\n",
      "8982/8982 [==============================] - 3s 372us/step - loss: 0.1168 - acc: 0.9769 - val_loss: 0.0613 - val_acc: 0.9835\n",
      "Epoch 2/10\n",
      "8982/8982 [==============================] - 1s 164us/step - loss: 0.0588 - acc: 0.9837 - val_loss: 0.0577 - val_acc: 0.9842\n",
      "Epoch 3/10\n",
      "8982/8982 [==============================] - 1s 160us/step - loss: 0.0548 - acc: 0.9850 - val_loss: 0.0541 - val_acc: 0.9862\n",
      "Epoch 4/10\n",
      "8982/8982 [==============================] - 1s 153us/step - loss: 0.0499 - acc: 0.9869 - val_loss: 0.0508 - val_acc: 0.9870\n",
      "Epoch 5/10\n",
      "8982/8982 [==============================] - 1s 153us/step - loss: 0.0460 - acc: 0.9875 - val_loss: 0.0490 - val_acc: 0.9873\n",
      "Epoch 6/10\n",
      "8982/8982 [==============================] - 1s 153us/step - loss: 0.0428 - acc: 0.9880 - val_loss: 0.0479 - val_acc: 0.9876\n",
      "Epoch 7/10\n",
      "8982/8982 [==============================] - 1s 164us/step - loss: 0.0402 - acc: 0.9884 - val_loss: 0.0471 - val_acc: 0.9878\n",
      "Epoch 8/10\n",
      "8982/8982 [==============================] - 1s 160us/step - loss: 0.0378 - acc: 0.9887 - val_loss: 0.0466 - val_acc: 0.9879\n",
      "Epoch 9/10\n",
      "8982/8982 [==============================] - 1s 159us/step - loss: 0.0356 - acc: 0.9891 - val_loss: 0.0463 - val_acc: 0.9880\n",
      "Epoch 10/10\n",
      "8982/8982 [==============================] - 1s 163us/step - loss: 0.0336 - acc: 0.9895 - val_loss: 0.0462 - val_acc: 0.9880\n"
     ]
    }
   ],
   "source": [
    "#We'll start by building a simple model using embedding\n",
    "from keras.models import Sequential\n",
    "from keras.layers import Flatten, Dense\n",
    "\n",
    "model = Sequential()\n",
    "# We specify the maximum input length to our Embedding layer\n",
    "# so we can later flatten the embedded inputs\n",
    "model.add(Embedding(10000, 8, input_length=maxlen))\n",
    "# After the Embedding layer, \n",
    "# our activations have shape `(samples, maxlen, 8)`.\n",
    "# convolution layers\n",
    "model.add(Flatten())\n",
    "model.add(Dense(46, activation='sigmoid'))\n",
    "\n",
    "\n",
    "model.compile(optimizer='rmsprop', loss='binary_crossentropy', metrics=['acc'])\n",
    "model.summary()\n",
    "\n",
    "history = model.fit(x_train, y_train,\n",
    "                    epochs=10,\n",
    "                    batch_size=32,\n",
    "                    validation_data=(x_test, y_test))"
   ]
  },
  {
   "cell_type": "code",
   "execution_count": 190,
   "metadata": {
    "scrolled": true
   },
   "outputs": [
    {
     "data": {
      "image/png": "[encoded data removed]",
      "text/plain": [
       "<matplotlib.figure.Figure at 0x12e87fb00>"
      ]
     },
     "metadata": {},
     "output_type": "display_data"
    },
    {
     "data": {
      "image/png": "[encoded data removed]",
      "text/plain": [
       "<matplotlib.figure.Figure at 0x12cb84fd0>"
      ]
     },
     "metadata": {},
     "output_type": "display_data"
    },
    {
     "name": "stdout",
     "output_type": "stream",
     "text": [
      "2246/2246 [==============================] - 0s 49us/step\n",
      "Loss: 0.046\n",
      "Accuracy: 0.988\n"
     ]
    }
   ],
   "source": [
    "import matplotlib.pyplot as plt\n",
    "\n",
    "acc = history.history['acc']\n",
    "val_acc = history.history['val_acc']\n",
    "loss = history.history['loss']\n",
    "val_loss = history.history['val_loss']\n",
    "\n",
    "epochs = range(1, len(acc) + 1)\n",
    "\n",
    "plt.plot(epochs, acc, 'bo', label='Training acc')\n",
    "plt.plot(epochs, val_acc, 'b', label='Validation acc')\n",
    "plt.title('Training and validation accuracy')\n",
    "plt.legend()\n",
    "\n",
    "plt.figure()\n",
    "\n",
    "plt.plot(epochs, loss, 'bo', label='Training loss')\n",
    "plt.plot(epochs, val_loss, 'b', label='Validation loss')\n",
    "plt.title('Training and validation loss')\n",
    "plt.legend()\n",
    "\n",
    "plt.show()\n",
    "scores = model.evaluate(x_test, y_test)\n",
    "print('Loss: %.3f' % scores[0])\n",
    "print('Accuracy: %.3f' % scores[1])"
   ]
  },
  {
   "cell_type": "code",
   "execution_count": 191,
   "metadata": {},
   "outputs": [
    {
     "name": "stdout",
     "output_type": "stream",
     "text": [
      "_________________________________________________________________\n",
      "Layer (type)                 Output Shape              Param #   \n",
      "=================================================================\n",
      "embedding_64 (Embedding)     (None, 100, 8)            80000     \n",
      "_________________________________________________________________\n",
      "flatten_61 (Flatten)         (None, 800)               0         \n",
      "_________________________________________________________________\n",
      "dense_96 (Dense)             (None, 512)               410112    \n",
      "_________________________________________________________________\n",
      "dropout_52 (Dropout)         (None, 512)               0         \n",
      "_________________________________________________________________\n",
      "activation_54 (Activation)   (None, 512)               0         \n",
      "_________________________________________________________________\n",
      "dense_97 (Dense)             (None, 46)                23598     \n",
      "=================================================================\n",
      "Total params: 513,710\n",
      "Trainable params: 513,710\n",
      "Non-trainable params: 0\n",
      "_________________________________________________________________\n",
      "Train on 8982 samples, validate on 2246 samples\n",
      "Epoch 1/10\n",
      "8982/8982 [==============================] - 7s 746us/step - loss: 0.0762 - acc: 0.9808 - val_loss: 0.0527 - val_acc: 0.9867\n",
      "Epoch 2/10\n",
      "8982/8982 [==============================] - 5s 554us/step - loss: 0.0484 - acc: 0.9875 - val_loss: 0.0480 - val_acc: 0.9874\n",
      "Epoch 3/10\n",
      "8982/8982 [==============================] - 5s 527us/step - loss: 0.0417 - acc: 0.9885 - val_loss: 0.0445 - val_acc: 0.9881\n",
      "Epoch 4/10\n",
      "8982/8982 [==============================] - 5s 590us/step - loss: 0.0366 - acc: 0.9897 - val_loss: 0.0437 - val_acc: 0.9882\n",
      "Epoch 5/10\n",
      "8982/8982 [==============================] - 5s 557us/step - loss: 0.0324 - acc: 0.9907 - val_loss: 0.0442 - val_acc: 0.9885\n",
      "Epoch 6/10\n",
      "8982/8982 [==============================] - 5s 579us/step - loss: 0.0284 - acc: 0.9915 - val_loss: 0.0459 - val_acc: 0.9882\n",
      "Epoch 7/10\n",
      "8982/8982 [==============================] - 5s 605us/step - loss: 0.0247 - acc: 0.9924 - val_loss: 0.0476 - val_acc: 0.9882\n",
      "Epoch 8/10\n",
      "8982/8982 [==============================] - 5s 552us/step - loss: 0.0212 - acc: 0.9933 - val_loss: 0.0506 - val_acc: 0.9880\n",
      "Epoch 9/10\n",
      "8982/8982 [==============================] - 5s 577us/step - loss: 0.0180 - acc: 0.9942 - val_loss: 0.0528 - val_acc: 0.9877\n",
      "Epoch 10/10\n",
      "8982/8982 [==============================] - 5s 573us/step - loss: 0.0151 - acc: 0.9949 - val_loss: 0.0575 - val_acc: 0.9875\n"
     ]
    }
   ],
   "source": [
    "#We'll start by building a simple model using embedding\n",
    "from keras.models import Sequential\n",
    "from keras.layers import Flatten, Dense\n",
    "\n",
    "model = Sequential()\n",
    "# We specify the maximum input length to our Embedding layer\n",
    "# so we can later flatten the embedded inputs\n",
    "model.add(Embedding(10000, 8, input_length=maxlen))\n",
    "# After the Embedding layer, \n",
    "# our activations have shape `(samples, maxlen, 8)`.\n",
    "# convolution layers\n",
    "model.add(Flatten())\n",
    "\n",
    "model.add(Dense(512))\n",
    "model.add(Dropout(0.25))\n",
    "model.add(Activation('relu'))\n",
    "\n",
    "model.add(Dense(46, activation='sigmoid'))\n",
    "\n",
    "\n",
    "model.compile(optimizer='rmsprop', loss='binary_crossentropy', metrics=['acc'])\n",
    "model.summary()\n",
    "\n",
    "history = model.fit(x_train, y_train,\n",
    "                    epochs=10,\n",
    "                    batch_size=32,\n",
    "                    validation_data=(x_test, y_test))"
   ]
  },
  {
   "cell_type": "code",
   "execution_count": 192,
   "metadata": {},
   "outputs": [
    {
     "data": {
      "image/png": "[encoded data removed]",
      "text/plain": [
       "<matplotlib.figure.Figure at 0x11f8b41d0>"
      ]
     },
     "metadata": {},
     "output_type": "display_data"
    },
    {
     "data": {
      "image/png": "[encoded data removed]",
      "text/plain": [
       "<matplotlib.figure.Figure at 0x12f20e9b0>"
      ]
     },
     "metadata": {},
     "output_type": "display_data"
    },
    {
     "name": "stdout",
     "output_type": "stream",
     "text": [
      "2246/2246 [==============================] - 0s 110us/step\n",
      "Loss: 0.057\n",
      "Accuracy: 0.988\n"
     ]
    }
   ],
   "source": [
    "import matplotlib.pyplot as plt\n",
    "\n",
    "model.fit(X_train, Y_train, batch_size=32, nb_epoch=15, verbose=1,\n",
    "          validation_data=(X_test, Y_test))\n",
    "\n",
    "acc = history.history['acc']\n",
    "val_acc = history.history['val_acc']\n",
    "loss = history.history['loss']\n",
    "val_loss = history.history['val_loss']\n",
    "\n",
    "epochs = range(1, len(acc) + 1)\n",
    "\n",
    "plt.plot(epochs, acc, 'bo', label='Training acc')\n",
    "plt.plot(epochs, val_acc, 'b', label='Validation acc')\n",
    "plt.title('Training and validation accuracy')\n",
    "plt.legend()\n",
    "\n",
    "plt.figure()\n",
    "\n",
    "plt.plot(epochs, loss, 'bo', label='Training loss')\n",
    "plt.plot(epochs, val_loss, 'b', label='Validation loss')\n",
    "plt.title('Training and validation loss')\n",
    "plt.legend()\n",
    "\n",
    "plt.show()\n",
    "scores = model.evaluate(x_test, y_test)\n",
    "print('Loss: %.3f' % scores[0])\n",
    "print('Accuracy: %.3f' % scores[1])"
   ]
  },
  {
   "cell_type": "code",
   "execution_count": 193,
   "metadata": {},
   "outputs": [
    {
     "name": "stderr",
     "output_type": "stream",
     "text": [
      "/Users/stuartgeman/anaconda/lib/python3.6/site-packages/keras/datasets/reuters.py:47: UserWarning: The `nb_words` argument in `load_data` has been renamed `num_words`.\n",
      "  warnings.warn('The `nb_words` argument in `load_data` '\n"
     ]
    }
   ],
   "source": [
    "(X_trainX_train, y_train), (X_test, y_test) = reuters.load_data(num_words=500, maxlen=100, test_split=0.2)\n",
    "X_train = preprocessing.sequence.pad_sequences(X_train, maxlen=100)\n",
    "X_test = preprocessing.sequence.pad_sequences(X_test, maxlen=100)\n",
    "Y_train = np_utils.to_categorical(y_train, 46)\n",
    "Y_test = np_utils.to_categorical(y_test, 46)"
   ]
  },
  {
   "cell_type": "code",
   "execution_count": 194,
   "metadata": {},
   "outputs": [
    {
     "name": "stderr",
     "output_type": "stream",
     "text": [
      "/Users/stuartgeman/anaconda/lib/python3.6/site-packages/ipykernel/__main__.py:11: UserWarning: Update your `Conv1D` call to the Keras 2 API: `Conv1D(activation=\"relu\", filters=32, kernel_size=4, padding=\"valid\")`\n",
      "/Users/stuartgeman/anaconda/lib/python3.6/site-packages/ipykernel/__main__.py:12: UserWarning: Update your `MaxPooling1D` call to the Keras 2 API: `MaxPooling1D(pool_size=2)`\n",
      "/Users/stuartgeman/anaconda/lib/python3.6/site-packages/keras/models.py:942: UserWarning: The `nb_epoch` argument in `fit` has been renamed `epochs`.\n",
      "  warnings.warn('The `nb_epoch` argument in `fit` '\n"
     ]
    },
    {
     "name": "stdout",
     "output_type": "stream",
     "text": [
      "Train on 4777 samples, validate on 1195 samples\n",
      "Epoch 1/15\n",
      "4777/4777 [==============================] - 5s 1ms/step - loss: 0.0658 - acc: 0.9808 - val_loss: 0.0416 - val_acc: 0.9888\n",
      "Epoch 2/15\n",
      "4777/4777 [==============================] - 3s 667us/step - loss: 0.0369 - acc: 0.9911 - val_loss: 0.0355 - val_acc: 0.9920\n",
      "Epoch 3/15\n",
      "4777/4777 [==============================] - 3s 633us/step - loss: 0.0330 - acc: 0.9921 - val_loss: 0.0354 - val_acc: 0.9915\n",
      "Epoch 4/15\n",
      "4777/4777 [==============================] - 3s 698us/step - loss: 0.0304 - acc: 0.9926 - val_loss: 0.0330 - val_acc: 0.9923\n",
      "Epoch 5/15\n",
      "4777/4777 [==============================] - 3s 695us/step - loss: 0.0280 - acc: 0.9929 - val_loss: 0.0312 - val_acc: 0.9925\n",
      "Epoch 6/15\n",
      "4777/4777 [==============================] - 3s 719us/step - loss: 0.0258 - acc: 0.9933 - val_loss: 0.0303 - val_acc: 0.9927\n",
      "Epoch 7/15\n",
      "4777/4777 [==============================] - 4s 776us/step - loss: 0.0240 - acc: 0.9936 - val_loss: 0.0313 - val_acc: 0.9925\n",
      "Epoch 8/15\n",
      "4777/4777 [==============================] - 3s 671us/step - loss: 0.0223 - acc: 0.9941 - val_loss: 0.0300 - val_acc: 0.9927\n",
      "Epoch 9/15\n",
      "4777/4777 [==============================] - 3s 606us/step - loss: 0.0203 - acc: 0.9944 - val_loss: 0.0303 - val_acc: 0.9929\n",
      "Epoch 10/15\n",
      "4777/4777 [==============================] - 3s 621us/step - loss: 0.0190 - acc: 0.9947 - val_loss: 0.0304 - val_acc: 0.9929\n",
      "Epoch 11/15\n",
      "4777/4777 [==============================] - 3s 648us/step - loss: 0.0176 - acc: 0.9948 - val_loss: 0.0311 - val_acc: 0.9928\n",
      "Epoch 12/15\n",
      "4777/4777 [==============================] - 3s 732us/step - loss: 0.0163 - acc: 0.9951 - val_loss: 0.0307 - val_acc: 0.9929\n",
      "Epoch 13/15\n",
      "4777/4777 [==============================] - 4s 754us/step - loss: 0.0149 - acc: 0.9953 - val_loss: 0.0326 - val_acc: 0.9928\n",
      "Epoch 14/15\n",
      "4777/4777 [==============================] - 4s 776us/step - loss: 0.0140 - acc: 0.9955 - val_loss: 0.0324 - val_acc: 0.9927\n",
      "Epoch 15/15\n",
      "4777/4777 [==============================] - 4s 823us/step - loss: 0.0130 - acc: 0.9958 - val_loss: 0.0338 - val_acc: 0.9924\n"
     ]
    },
    {
     "data": {
      "text/plain": [
       "<keras.callbacks.History at 0x133837c18>"
      ]
     },
     "execution_count": 194,
     "metadata": {},
     "output_type": "execute_result"
    }
   ],
   "source": [
    "model = Sequential()\n",
    "\n",
    "# embedding\n",
    "model.add(Embedding(500, 32, input_length=100))\n",
    "model.add(Dropout(0.25))\n",
    "\n",
    "# convolution layers\n",
    "model.add(Convolution1D(nb_filter=32,\n",
    "                        filter_length=4,\n",
    "                        border_mode='valid',\n",
    "                        activation='relu'))\n",
    "model.add(MaxPooling1D(pool_length=2))\n",
    "\n",
    "# dense layers\n",
    "model.add(Flatten())\n",
    "model.add(Dense(256))\n",
    "model.add(Dropout(0.25))\n",
    "model.add(Activation('relu'))\n",
    "\n",
    "# output layer\n",
    "model.add(Dense(46))\n",
    "model.add(Activation('sigmoid'))\n",
    "\n",
    "model.compile(loss='binary_crossentropy', optimizer='rmsprop', metrics=['accuracy'])\n",
    "history = model.fit(X_train, Y_train, batch_size=32, nb_epoch=15, verbose=1,\n",
    "          validation_data=(X_test, Y_test))"
   ]
  },
  {
   "cell_type": "code",
   "execution_count": 195,
   "metadata": {},
   "outputs": [
    {
     "data": {
      "image/png": "[encoded data removed]",
      "text/plain": [
       "<matplotlib.figure.Figure at 0x132536710>"
      ]
     },
     "metadata": {},
     "output_type": "display_data"
    },
    {
     "data": {
      "image/png": "[encoded data removed]",
      "text/plain": [
       "<matplotlib.figure.Figure at 0x132123128>"
      ]
     },
     "metadata": {},
     "output_type": "display_data"
    },
    {
     "name": "stdout",
     "output_type": "stream",
     "text": [
      "1195/1195 [==============================] - 0s 152us/step\n",
      "Loss: 0.034\n",
      "Accuracy: 0.992\n"
     ]
    }
   ],
   "source": [
    "import matplotlib.pyplot as plt\n",
    "\n",
    "acc = history.history['acc']\n",
    "val_acc = history.history['val_acc']\n",
    "loss = history.history['loss']\n",
    "val_loss = history.history['val_loss']\n",
    "\n",
    "epochs = range(1, len(acc) + 1)\n",
    "\n",
    "plt.plot(epochs, acc, 'bo', label='Training acc')\n",
    "plt.plot(epochs, val_acc, 'b', label='Validation acc')\n",
    "plt.title('Training and validation accuracy')\n",
    "plt.legend()\n",
    "\n",
    "plt.figure()\n",
    "\n",
    "plt.plot(epochs, loss, 'bo', label='Training loss')\n",
    "plt.plot(epochs, val_loss, 'b', label='Validation loss')\n",
    "plt.title('Training and validation loss')\n",
    "plt.legend()\n",
    "\n",
    "plt.show()\n",
    "scores = model.evaluate(X_test, Y_test)\n",
    "print('Loss: %.3f' % scores[0])\n",
    "print('Accuracy: %.3f' % scores[1])"
   ]
  },
  {
   "cell_type": "code",
   "execution_count": null,
   "metadata": {
    "collapsed": true
   },
   "outputs": [],
   "source": []
  }
 ],
 "metadata": {
  "kernelspec": {
   "display_name": "Python [default]",
   "language": "python",
   "name": "python3"
  },
  "language_info": {
   "codemirror_mode": {
    "name": "ipython",
    "version": 3
   },
   "file_extension": ".py",
   "mimetype": "text/x-python",
   "name": "python",
   "nbconvert_exporter": "python",
   "pygments_lexer": "ipython3",
   "version": "3.6.3"
  }
 },
 "nbformat": 4,
 "nbformat_minor": 2
}
